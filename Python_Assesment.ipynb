{
 "cells": [
  {
   "cell_type": "markdown",
   "metadata": {},
   "source": [
    "1.\n",
    "Scenario: You are working with a list of numbers and need to create a new list that contains\n",
    "only the even numbers from the original list.\n",
    "Question: Write a Python oneliner using list comprehension to create a new list containing\n",
    "only the even numbers from the list `[1, 2, 3, 4, 5, 6, 7, 8, 9, 10]`."
   ]
  },
  {
   "cell_type": "code",
   "execution_count": 11,
   "metadata": {},
   "outputs": [
    {
     "name": "stdout",
     "output_type": "stream",
     "text": [
      "[2, 4, 6, 8, 10]\n"
     ]
    }
   ],
   "source": [
    "x = [num for num in [1, 2, 3, 4, 5, 6, 7, 8, 9, 10] if num % 2 == 0]\n",
    "type(x)\n",
    "print(x)\n"
   ]
  },
  {
   "cell_type": "markdown",
   "metadata": {},
   "source": [
    "2.\n",
    "Scenario: You are creating a class representing a person and want to customize the string\n",
    "representation of the object.\n",
    "Question: Define a class Person with attributes name, age, and gender. Implement the\n",
    "__str__ method to return a string in the format \"Name: {name}, Age: {age}, Gender: {gender}\""
   ]
  },
  {
   "cell_type": "code",
   "execution_count": 13,
   "metadata": {},
   "outputs": [
    {
     "name": "stdout",
     "output_type": "stream",
     "text": [
      "Name: Kareem, Age: 26, Gender: Male\n",
      "Name: Kareem, Age: 26, Gender: Male\n",
      "Name: Swara, Age: 23, Gender: Female\n"
     ]
    }
   ],
   "source": [
    "class Person:\n",
    "    def __init__(self, name, age, gender):\n",
    "        self.name = name\n",
    "        self.age = age\n",
    "        self.gender = gender\n",
    "    \n",
    "    def __str__(self):\n",
    "        return f\"Name: {self.name}, Age: {self.age}, Gender: {self.gender}\"\n",
    "\n",
    "person1 = Person(\"Kareem\", 26, \"Male\")\n",
    "print(person1)\n",
    "person2 = Person(\"Zak\", 22, \"Male\")\n",
    "print(person1)\n",
    "person3 = Person(\"Swara\", 23, \"Female\")\n",
    "print(person3)"
   ]
  },
  {
   "cell_type": "markdown",
   "metadata": {},
   "source": [
    "3.\n",
    "Scenario: You are building a Python script to fetch data from a REST API and process the\n",
    "results.\n",
    "Question: Write a Python function that uses the `requests` library to make a GET request to\n",
    "the URL `https://api.example.com/data` and returns the JSON response."
   ]
  },
  {
   "cell_type": "code",
   "execution_count": null,
   "metadata": {},
   "outputs": [],
   "source": []
  },
  {
   "cell_type": "markdown",
   "metadata": {},
   "source": [
    "4.\n",
    "Scenario: You are working with a list of strings and need to sort them based on their lengths.\n",
    "Question: Write a Python lambda function to use as the `key` parameter in the `sorted`\n",
    "function to sort the list `['apple', 'banana', 'cherry', 'date']` based on the length of each string."
   ]
  },
  {
   "cell_type": "code",
   "execution_count": 14,
   "metadata": {},
   "outputs": [
    {
     "name": "stdout",
     "output_type": "stream",
     "text": [
      "['date', 'apple', 'banana', 'cherry']\n"
     ]
    }
   ],
   "source": [
    "strings = ['apple', 'banana', 'cherry', 'date']\n",
    "\n",
    "sorted_strings = sorted(strings, key=lambda x: len(x))\n",
    "\n",
    "print(sorted_strings)\n"
   ]
  },
  {
   "cell_type": "markdown",
   "metadata": {},
   "source": [
    "5.\n",
    "Scenario: You are creating a set of classes to represent different types of vehicles. You have a\n",
    "base class `Vehicle` and subclasses `Car`, `Truck`, and `Motorcycle`.\n",
    "Question: Define the `Vehicle` class with a method `drive` that prints \"Driving a vehicle.\"\n",
    "Then, define the subclasses `Car`, `Truck`, and `Motorcycle`, each with their own `drive` method that\n",
    "prints a message specific to that type of vehicle."
   ]
  },
  {
   "cell_type": "code",
   "execution_count": 15,
   "metadata": {},
   "outputs": [],
   "source": [
    "class Vehicle:\n",
    "    def drive(self):\n",
    "        print(\"Driving a vehicle.\")\n",
    "\n",
    "class Car(Vehicle):\n",
    "    def drive(self):\n",
    "        print(\"Driving a car.\")\n",
    "\n",
    "class Truck(Vehicle):\n",
    "    def drive(self):\n",
    "        print(\"Driving a truck.\")\n",
    "\n",
    "class Motorcycle(Vehicle):\n",
    "    def drive(self):\n",
    "        print(\"Driving a motorcycle.\")\n"
   ]
  },
  {
   "cell_type": "code",
   "execution_count": 16,
   "metadata": {},
   "outputs": [
    {
     "name": "stdout",
     "output_type": "stream",
     "text": [
      "Driving a car.\n",
      "Driving a truck.\n",
      "Driving a motorcycle.\n"
     ]
    }
   ],
   "source": [
    "car = Car()\n",
    "car.drive()\n",
    "\n",
    "truck = Truck()\n",
    "truck.drive()\n",
    "\n",
    "motorcycle = Motorcycle()\n",
    "motorcycle.drive()\n"
   ]
  }
 ],
 "metadata": {
  "kernelspec": {
   "display_name": "Python 3",
   "language": "python",
   "name": "python3"
  },
  "language_info": {
   "codemirror_mode": {
    "name": "ipython",
    "version": 3
   },
   "file_extension": ".py",
   "mimetype": "text/x-python",
   "name": "python",
   "nbconvert_exporter": "python",
   "pygments_lexer": "ipython3",
   "version": "3.12.3"
  }
 },
 "nbformat": 4,
 "nbformat_minor": 2
}
